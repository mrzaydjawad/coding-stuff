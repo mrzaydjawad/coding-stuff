{
 "cells": [
  {
   "cell_type": "code",
   "execution_count": null,
   "metadata": {},
   "outputs": [],
   "source": [
    "print(\"size of the pond\")\n",
    "print(\"----------------\")\n",
    "width = input(\"pls enter the width:\")\n",
    "width = float(width)\n",
    "length = input(\"pls enter the length:\")\n",
    "length = float(length)\n",
    "depth = input(\"pls enter the depth:\")\n",
    "depth = float(depth)\n",
    "surface_area = width*length\n",
    "size = surface_area*depth\n",
    "print(\"the volume of the pond is \",size)\n",
    "print()\n",
    "print(\"filling the pond\")\n",
    "print(\"----------------\")\n",
    "second = input(\"pls enter the liters per second:\")\n",
    "second = float(second)\n",
    "hour = second*3600\n",
    "hours = hour/1000\n",
    "htftp = size/hours\n",
    "htftp = round(htftp,2)\n",
    "days = htftp/24\n",
    "days = int(days)\n",
    "dais = days*24\n",
    "hl = htftp-dais\n",
    "hl = round(hl,2)\n",
    "print(\"the liters per hour is:\",hour)\n",
    "print(\"the cubic meters per hour is:\",hours)\n",
    "print(\"it will take \",days,\" days and \",hl,\" hours to fill the pond\")\n",
    "print()\n",
    "print(\"evaporation\")\n",
    "print(\"-----------\")\n",
    "evaporation = float(surface_area * 75/1000)\n",
    "evaporation = round(evaporation,2)\n",
    "print(\"cubic meters of water lost per month:\",evaporation)\n",
    "print()\n",
    "print(\"rainfall\")\n",
    "print(\"--------\")\n",
    "rainfall = float(input(\"pls enter the rainfall (in milimeters):\"))\n",
    "rain = surface_area * rainfall/1000\n",
    "rain = round(rain,2)\n",
    "print(\"cubic meters of rain added:\",rain)\n",
    "print()\n",
    "print(\"change to the pond\")\n",
    "print(\"------------------\")\n",
    "seapage = 20*surface_area\n",
    "seepage = seapage/1000\n",
    "lof = evaporation+seepage\n",
    "change = rain-lof\n",
    "change = round(change,2)\n",
    "new_volume = size+change\n",
    "print(\"the change to the pond is:\",change)\n",
    "print(\"the new volume of water in the pond is \",new_volume)\n",
    "print()\n",
    "print(\"monthly changes in volume of water\")\n",
    "print(\"----------------------------------\")\n",
    "for i in range(12):\n",
    "    rf = float(input(\"pls enter the rainfall(in milimeters:\"))\n",
    "    r =surface_area * rf/ 1000\n",
    "    c = r - lof\n",
    "    v = size + c\n",
    "    c = round(c,2)\n",
    "    v = round(v,2)\n",
    "    print(\"the change in volume is:\",c)\n",
    "    print(\"the new volume is:\",v)"
   ]
  }
 ],
 "metadata": {
  "kernelspec": {
   "display_name": "Python 3.10.7 64-bit",
   "language": "python",
   "name": "python3"
  },
  "language_info": {
   "codemirror_mode": {
    "name": "ipython",
    "version": 3
   },
   "file_extension": ".py",
   "mimetype": "text/x-python",
   "name": "python",
   "nbconvert_exporter": "python",
   "pygments_lexer": "ipython3",
   "version": "3.10.7"
  },
  "orig_nbformat": 4,
  "vscode": {
   "interpreter": {
    "hash": "5fcb11f0d61b1f16bbde52c174ab85adf42e72848200f16dac90269766cb7296"
   }
  }
 },
 "nbformat": 4,
 "nbformat_minor": 2
}
