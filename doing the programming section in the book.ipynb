{
 "cells": [
  {
   "cell_type": "code",
   "execution_count": 4,
   "metadata": {},
   "outputs": [
    {
     "name": "stdout",
     "output_type": "stream",
     "text": [
      "volume of the pond\n",
      "----------------\n",
      "the volume of the pond is  225.0\n",
      "\n",
      "filling the pond\n",
      "----------------\n",
      "the liters per hour is: 2520.0\n",
      "cubic meters per day will be: 60.48\n",
      "it will take  3.72 to fill the pond\n"
     ]
    }
   ],
   "source": [
    "print(\"volume of the pond\")\n",
    "print(\"----------------\")\n",
    "width = input(\"pls enter the width:\")\n",
    "width = float(width)\n",
    "length = input(\"pls enter the length:\")\n",
    "length = float(length)\n",
    "depth = input(\"pls enter the depth:\")\n",
    "depth = float(depth)\n",
    "surface_area = width*length\n",
    "volume = surface_area*depth\n",
    "print(\"the volume of the pond is \",volume)\n",
    "print()\n",
    "print(\"filling the pond\")\n",
    "print(\"----------------\")\n",
    "second = input(\"pls enter the liters per second:\")\n",
    "second = float(second)\n",
    "hour = second*3600\n",
    "day = hour*24\n",
    "day = day/1000\n",
    "dtftp = volume/day\n",
    "dtftp = round(dtftp,2)\n",
    "print(\"the liters per hour is:\",hour)\n",
    "print(\"cubic meters per day will be:\",day)\n",
    "print(\"it will take \",dtftp,\"days to fill the pond\")\n"
   ]
  },
  {
   "cell_type": "code",
   "execution_count": 11,
   "metadata": {},
   "outputs": [
    {
     "name": "stdout",
     "output_type": "stream",
     "text": [
      "size of the pond\n",
      "----------------\n",
      "the volume of the pond is  60.0\n",
      "\n",
      "filling the pond\n",
      "----------------\n",
      "the liters per hour is: 7200.0\n",
      "the cubic meters per hour is: 7.2\n",
      "it will take  0  days and  8.33  hours to fill the pond\n",
      "\n",
      "evaporation\n",
      "-----------\n",
      "cubic meters of water lost per month: 1.5\n",
      "\n",
      "rainfall\n",
      "--------\n",
      "cubic meters of rain added: 0.1\n",
      "\n",
      "change to the pond\n",
      "------------------\n",
      "the change to the pond is: 1.7999999999999998\n",
      "the new volume of water in the pond is  58.2\n"
     ]
    }
   ],
   "source": [
    "print(\"size of the pond\")\n",
    "print(\"----------------\")\n",
    "width = input(\"pls enter the width:\")\n",
    "width = float(width)\n",
    "length = input(\"pls enter the length:\")\n",
    "length = float(length)\n",
    "depth = input(\"pls enter the depth:\")\n",
    "depth = float(depth)\n",
    "surface_area = width*length\n",
    "size = surface_area*depth\n",
    "print(\"the volume of the pond is \",size)\n",
    "print()\n",
    "print(\"filling the pond\")\n",
    "print(\"----------------\")\n",
    "second = input(\"pls enter the liters per second:\")\n",
    "second = float(second)\n",
    "hour = second*3600\n",
    "hours = hour/1000\n",
    "htftp = size/hours\n",
    "htftp = round(htftp,2)\n",
    "days = htftp/24\n",
    "days = int(days)\n",
    "dais = days*24\n",
    "hl = htftp-dais\n",
    "hl = round(hl,2)\n",
    "print(\"the liters per hour is:\",hour)\n",
    "print(\"the cubic meters per hour is:\",hours)\n",
    "print(\"it will take \",days,\" days and \",hl,\" hours to fill the pond\")\n",
    "print()\n",
    "print(\"evaporation\")\n",
    "print(\"-----------\")\n",
    "evaporation = float(surface_area * 75/1000)\n",
    "evaporation = round(evaporation,2)\n",
    "print(\"cubic meters of water lost per month:\",evaporation)\n",
    "print()\n",
    "print(\"rainfall\")\n",
    "print(\"--------\")\n",
    "rainfall = float(input(\"pls enter the rainfall (in milimeters):\"))\n",
    "rain = surface_area * rainfall/1000\n",
    "rain = round(rain,2)\n",
    "print(\"cubic meters of rain added:\",rain)\n",
    "print()\n",
    "print(\"change to the pond\")\n",
    "print(\"------------------\")\n",
    "seapage = 20*surface_area\n",
    "seepage = seapage/1000\n",
    "lof = evaporation+seepage\n",
    "change = lof-rain\n",
    "new_volume = size-change\n",
    "print(\"the change to the pond is:\",change)\n",
    "print(\"the new volume of water in the pond is \",new_volume)"
   ]
  },
  {
   "cell_type": "code",
   "execution_count": null,
   "metadata": {},
   "outputs": [],
   "source": [
    "   "
   ]
  }
 ],
 "metadata": {
  "kernelspec": {
   "display_name": "Python 3.10.7 64-bit",
   "language": "python",
   "name": "python3"
  },
  "language_info": {
   "codemirror_mode": {
    "name": "ipython",
    "version": 3
   },
   "file_extension": ".py",
   "mimetype": "text/x-python",
   "name": "python",
   "nbconvert_exporter": "python",
   "pygments_lexer": "ipython3",
   "version": "3.10.7"
  },
  "orig_nbformat": 4,
  "vscode": {
   "interpreter": {
    "hash": "5fcb11f0d61b1f16bbde52c174ab85adf42e72848200f16dac90269766cb7296"
   }
  }
 },
 "nbformat": 4,
 "nbformat_minor": 2
}
