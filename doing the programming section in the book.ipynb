{
 "cells": [
  {
   "cell_type": "code",
   "execution_count": 6,
   "metadata": {},
   "outputs": [
    {
     "name": "stdout",
     "output_type": "stream",
     "text": [
      "size of the pond\n",
      "----------------\n"
     ]
    },
    {
     "ename": "ValueError",
     "evalue": "could not convert string to float: ''",
     "output_type": "error",
     "traceback": [
      "\u001b[1;31m---------------------------------------------------------------------------\u001b[0m",
      "\u001b[1;31mValueError\u001b[0m                                Traceback (most recent call last)",
      "Cell \u001b[1;32mIn [6], line 4\u001b[0m\n\u001b[0;32m      2\u001b[0m \u001b[38;5;28mprint\u001b[39m(\u001b[38;5;124m\"\u001b[39m\u001b[38;5;124m----------------\u001b[39m\u001b[38;5;124m\"\u001b[39m)\n\u001b[0;32m      3\u001b[0m width \u001b[38;5;241m=\u001b[39m \u001b[38;5;28minput\u001b[39m(\u001b[38;5;124m\"\u001b[39m\u001b[38;5;124mpls enter the width:\u001b[39m\u001b[38;5;124m\"\u001b[39m)\n\u001b[1;32m----> 4\u001b[0m width \u001b[38;5;241m=\u001b[39m \u001b[38;5;28;43mfloat\u001b[39;49m\u001b[43m(\u001b[49m\u001b[43mwidth\u001b[49m\u001b[43m)\u001b[49m\n\u001b[0;32m      5\u001b[0m length \u001b[38;5;241m=\u001b[39m \u001b[38;5;28minput\u001b[39m(\u001b[38;5;124m\"\u001b[39m\u001b[38;5;124mpls enter the length:\u001b[39m\u001b[38;5;124m\"\u001b[39m)\n\u001b[0;32m      6\u001b[0m length \u001b[38;5;241m=\u001b[39m \u001b[38;5;28mfloat\u001b[39m(length)\n",
      "\u001b[1;31mValueError\u001b[0m: could not convert string to float: ''"
     ]
    }
   ],
   "source": [
    "print(\"size of the pond\")\n",
    "print(\"----------------\")\n",
    "width = input(\"pls enter the width:\")\n",
    "width = float(width)\n",
    "length = input(\"pls enter the length:\")\n",
    "length = float(length)\n",
    "depth = input(\"pls enter the depth:\")\n",
    "depth = float(depth)\n",
    "surface_area = width*length\n",
    "size = surface_area*depth\n",
    "print(\"the volume of the pond is \",size)\n",
    "print()\n",
    "print(\"filling the pond\")\n",
    "print(\"----------------\")\n",
    "second = input(\"pls enter the liters per second:\")\n",
    "second = float(second)\n",
    "hour = second*3600\n",
    "hours = hour/1000\n",
    "htftp = size/hours\n",
    "htftp = round(htftp,2)\n",
    "days = htftp/24\n",
    "days = int(days)\n",
    "dais = days*24\n",
    "hl = htftp-dais\n",
    "hl = round(hl,2)\n",
    "print(\"the liters per hour is:\",hour)\n",
    "print(\"the cubic meters per hour is:\",hours)\n",
    "print(\"it will take \",days,\" days and \",hl,\" hours to fill the pond\")\n",
    "print()\n",
    "print(\"evaporation\")\n",
    "print(\"-----------\")\n",
    "evaporation = float(surface_area * 75/1000)\n",
    "evaporation = round(evaporation,2)\n",
    "print(\"cubic meters of water lost per month:\",evaporation)\n",
    "print()\n",
    "print(\"rainfall\")\n",
    "print(\"--------\")\n",
    "rainfall = float(input(\"pls enter the rainfall (in milimeters):\"))\n",
    "rain = surface_area * rainfall/1000\n",
    "rain = round(rain,2)\n",
    "print(\"cubic meters of rain added:\",rain)\n",
    "print()\n",
    "print(\"change to the pond\")\n",
    "print(\"------------------\")\n",
    "seapage = 20*surface_area\n",
    "seepage = seapage/1000\n",
    "lof = evaporation+seepage\n",
    "change = rain-lof\n",
    "new_volume = size+change\n",
    "print(\"the change to the pond is:\",change)\n",
    "print(\"the new volume of water in the pond is \",new_volume)"
   ]
  },
  {
   "cell_type": "code",
   "execution_count": null,
   "metadata": {},
   "outputs": [
    {
     "name": "stdout",
     "output_type": "stream",
     "text": [
      "size of the pond\n",
      "----------------\n",
      "the volume of the pond is  409118760.0\n",
      "monthly changes in volume of water\n",
      "----------------------------------\n",
      "the change to the pond is: -51894.12\n",
      "the new volume of water in the pond is  409066865.88\n",
      "\n",
      "the change to the pond is: -52497.54\n",
      "the new volume of water in the pond is  409066262.46\n",
      "\n",
      "the change to the pond is: -51894.12\n",
      "the new volume of water in the pond is  409066865.88\n",
      "\n",
      "the change to the pond is: -52497.54\n",
      "the new volume of water in the pond is  409066262.46\n",
      "\n",
      "the change to the pond is: -51894.12\n",
      "the new volume of water in the pond is  409066865.88\n",
      "\n",
      "the change to the pond is: -51894.12\n",
      "the new volume of water in the pond is  409066865.88\n",
      "\n",
      "the change to the pond is: -51290.7\n",
      "the new volume of water in the pond is  409067469.3\n",
      "\n",
      "the change to the pond is: -50083.86\n",
      "the new volume of water in the pond is  409068676.14\n",
      "\n",
      "the change to the pond is: -49480.44\n",
      "the new volume of water in the pond is  409069279.56\n",
      "\n",
      "the change to the pond is: -53704.38\n",
      "the new volume of water in the pond is  409065055.62\n",
      "\n",
      "the change to the pond is: -54307.8\n",
      "the new volume of water in the pond is  409064452.2\n",
      "\n",
      "the change to the pond is: -11464.98\n",
      "the new volume of water in the pond is  409107295.02\n",
      "\n",
      "\n",
      "thank you for using this program\n"
     ]
    }
   ],
   "source": [
    "print(\"size of the pond\")\n",
    "print(\"----------------\")\n",
    "width = input(\"pls enter the width:\")\n",
    "width = float(width)\n",
    "length = input(\"pls enter the length:\")\n",
    "length = float(length)\n",
    "depth = input(\"pls enter the depth:\")\n",
    "depth = float(depth)\n",
    "surface_area = width*length\n",
    "size = surface_area*depth\n",
    "print(\"the volume of the pond is \",size)\n",
    "print(\"monthly changes in volume of water\")\n",
    "print(\"----------------------------------\")\n",
    "for i in range(12):\n",
    "    rainfall = float(input(\"enter rainfall(in milimeters):\"))\n",
    "    seapage = 20*surface_area\n",
    "    seepage = seapage/1000\n",
    "    evaporation = float(surface_area * 75/1000)\n",
    "    evaporation = round(evaporation,2)\n",
    "    lof = evaporation + seepage\n",
    "    rain = surface_area * rainfall / 1000\n",
    "    change = rain-lof\n",
    "    change = round(change,2)\n",
    "    new_volume = size+change\n",
    "    print(\"the change to the pond is:\",change)\n",
    "    print(\"the new volume of water in the pond is \",new_volume)\n",
    "    print()\n",
    "\n",
    "print()\n",
    "print(\"thank you for using this program\")\n",
    "\n"
   ]
  }
 ],
 "metadata": {
  "kernelspec": {
   "display_name": "Python 3.10.7 64-bit",
   "language": "python",
   "name": "python3"
  },
  "language_info": {
   "codemirror_mode": {
    "name": "ipython",
    "version": 3
   },
   "file_extension": ".py",
   "mimetype": "text/x-python",
   "name": "python",
   "nbconvert_exporter": "python",
   "pygments_lexer": "ipython3",
   "version": "3.10.7"
  },
  "orig_nbformat": 4,
  "vscode": {
   "interpreter": {
    "hash": "5fcb11f0d61b1f16bbde52c174ab85adf42e72848200f16dac90269766cb7296"
   }
  }
 },
 "nbformat": 4,
 "nbformat_minor": 2
}
