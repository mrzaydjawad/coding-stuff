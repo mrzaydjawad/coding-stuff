{
 "cells": [
  {
   "cell_type": "code",
   "execution_count": 8,
   "metadata": {},
   "outputs": [
    {
     "name": "stdout",
     "output_type": "stream",
     "text": [
      "hi zayd\n",
      "what is your favorite icecream flavor out of these 3?:\n",
      "[1]chocolate\n",
      "[2]strawberry\n",
      "[3]vanilla\n",
      "[0]exit the program\n",
      "nice\n",
      "\n",
      "Bye have a good day!\n"
     ]
    }
   ],
   "source": [
    "name = input(\"what is your name:\")\n",
    "print(\"hi\",name)\n",
    "def survey():\n",
    "    def menu():\n",
    "        print(\"[1]chocolate\")\n",
    "        print(\"[2]strawberry\")\n",
    "        print(\"[3]vanilla\")\n",
    "        print(\"[0]exit the program\")\n",
    "    print(\"what is your favorite icecream flavor out of these 3?:\")\n",
    "    menu()\n",
    "    fv = int(input(\"pls enter your favorite icecream flavor\"))\n",
    "    while fv != 0:\n",
    "        if fv == 1:\n",
    "            print(\"nice\")\n",
    "            break\n",
    "        elif fv == 2:\n",
    "            print(\"nice\")\n",
    "            break\n",
    "        elif fv == 3:\n",
    "            print(\"nice\")\n",
    "            break\n",
    "        else:\n",
    "            print(\"pla enter a valid icecream lavor\")\n",
    "            break\n",
    "    print()\n",
    "    print(\"Bye have a good day!\")\n",
    "yes = (\"yes\")\n",
    "choice = input(\"would you do a small survey for me?:\")\n",
    "if choice == yes:\n",
    "    survey()\n",
    "else:\n",
    "    print(\"ok bye \",name)"
   ]
  }
 ],
 "metadata": {
  "kernelspec": {
   "display_name": "Python 3.10.7 64-bit",
   "language": "python",
   "name": "python3"
  },
  "language_info": {
   "codemirror_mode": {
    "name": "ipython",
    "version": 3
   },
   "file_extension": ".py",
   "mimetype": "text/x-python",
   "name": "python",
   "nbconvert_exporter": "python",
   "pygments_lexer": "ipython3",
   "version": "3.10.7"
  },
  "orig_nbformat": 4,
  "vscode": {
   "interpreter": {
    "hash": "5fcb11f0d61b1f16bbde52c174ab85adf42e72848200f16dac90269766cb7296"
   }
  }
 },
 "nbformat": 4,
 "nbformat_minor": 2
}
